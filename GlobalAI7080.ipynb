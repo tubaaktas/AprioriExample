{
  "nbformat": 4,
  "nbformat_minor": 0,
  "metadata": {
    "colab": {
      "name": "GlobalAI7080.ipynb",
      "provenance": [],
      "authorship_tag": "ABX9TyM6xlzXldVCbDnkEpIlIPt3",
      "include_colab_link": true
    },
    "kernelspec": {
      "name": "python3",
      "display_name": "Python 3"
    },
    "language_info": {
      "name": "python"
    }
  },
  "cells": [
    {
      "cell_type": "markdown",
      "metadata": {
        "id": "view-in-github",
        "colab_type": "text"
      },
      "source": [
        "<a href=\"https://colab.research.google.com/github/tubaaktas/AprioriExample/blob/main/GlobalAI7080.ipynb\" target=\"_parent\"><img src=\"https://colab.research.google.com/assets/colab-badge.svg\" alt=\"Open In Colab\"/></a>"
      ]
    },
    {
      "cell_type": "markdown",
      "source": [
        "# **PART 1**"
      ],
      "metadata": {
        "id": "cOjlyjQ55F0B"
      }
    },
    {
      "cell_type": "code",
      "execution_count": null,
      "metadata": {
        "id": "bBJr4WY53Dy7"
      },
      "outputs": [],
      "source": [
        "my_name = \"Tugba\"\n",
        "my_surname = \"Aktas\"\n",
        "my_age = \"21\"\n",
        "ID_number = 12345678910\n",
        "where_i_live = \"Kocaeli\"\n",
        "health_insurance = True #saglik sigortasi"
      ]
    },
    {
      "cell_type": "code",
      "source": [
        "print(f\"My name is {my_name} {my_surname}. I am {str(my_age)} years old, i live in {where_i_live}\")"
      ],
      "metadata": {
        "colab": {
          "base_uri": "https://localhost:8080/"
        },
        "id": "oOKV4xQL3sXz",
        "outputId": "9bc637c1-4d1a-4e17-bd80-62f323927bd2"
      },
      "execution_count": null,
      "outputs": [
        {
          "output_type": "stream",
          "name": "stdout",
          "text": [
            "My name is Tugba Aktas. I am 21 years old, i live in Kocaeli\n"
          ]
        }
      ]
    },
    {
      "cell_type": "code",
      "source": [
        "item_list = ['Laptop', 'Headset', 'Second monitor', 'Mousepad', 'USB drive', 'External drive']"
      ],
      "metadata": {
        "id": "HbH5agVH4Hgd"
      },
      "execution_count": null,
      "outputs": []
    },
    {
      "cell_type": "code",
      "source": [
        "print(item_list)"
      ],
      "metadata": {
        "colab": {
          "base_uri": "https://localhost:8080/"
        },
        "id": "V1JqWqbD4aOZ",
        "outputId": "132d4103-e85b-43ae-b8fc-ce9c11ba8fe7"
      },
      "execution_count": null,
      "outputs": [
        {
          "output_type": "stream",
          "name": "stdout",
          "text": [
            "['Laptop', 'Headset', 'Second monitor', 'Mousepad', 'USB drive', 'External drive']\n"
          ]
        }
      ]
    },
    {
      "cell_type": "code",
      "source": [
        "mandatory_item_list = item_list[0:3]"
      ],
      "metadata": {
        "id": "IZwJBXzD4b8p"
      },
      "execution_count": null,
      "outputs": []
    },
    {
      "cell_type": "code",
      "source": [
        "optional_item_list = item_list[3:6]"
      ],
      "metadata": {
        "id": "03A9ejOn4iKL"
      },
      "execution_count": null,
      "outputs": []
    },
    {
      "cell_type": "code",
      "source": [
        "print(mandatory_item_list)"
      ],
      "metadata": {
        "colab": {
          "base_uri": "https://localhost:8080/"
        },
        "id": "z766WYv34pDO",
        "outputId": "f40a7032-8302-43fd-fec4-1bb6636dd8bd"
      },
      "execution_count": null,
      "outputs": [
        {
          "output_type": "stream",
          "name": "stdout",
          "text": [
            "['Laptop', 'Headset', 'Second monitor']\n"
          ]
        }
      ]
    },
    {
      "cell_type": "code",
      "source": [
        "print(optional_item_list)"
      ],
      "metadata": {
        "colab": {
          "base_uri": "https://localhost:8080/"
        },
        "id": "RBfRqy3F4rq2",
        "outputId": "3474deb7-78ee-4284-8fd3-af901c5f9226"
      },
      "execution_count": null,
      "outputs": [
        {
          "output_type": "stream",
          "name": "stdout",
          "text": [
            "['Mousepad', 'USB drive', 'External drive']\n"
          ]
        }
      ]
    },
    {
      "cell_type": "markdown",
      "source": [
        "# **PART 2**"
      ],
      "metadata": {
        "id": "CHy34GPG5LBh"
      }
    },
    {
      "cell_type": "code",
      "source": [
        "limit = 5000"
      ],
      "metadata": {
        "id": "NxAdf4Kz5XbS"
      },
      "execution_count": null,
      "outputs": []
    },
    {
      "cell_type": "code",
      "source": [
        "price_sheet={\n",
        "    'Laptop' : 1500,\n",
        "    'Headset' :100,\n",
        "    'Second monitor' : 200,\n",
        "    'Mousepad' : 50,\n",
        "    'USB drive' : 70,\n",
        "    'External drive' : 250\n",
        "}"
      ],
      "metadata": {
        "id": "FrBV26lg58AT"
      },
      "execution_count": null,
      "outputs": []
    },
    {
      "cell_type": "code",
      "source": [
        "cart = []"
      ],
      "metadata": {
        "id": "9NB2Kibl6XGV"
      },
      "execution_count": null,
      "outputs": []
    },
    {
      "cell_type": "code",
      "source": [
        "def add_to_cart(item, quantity):\n",
        "  cart.append((item, quantity))\n",
        "  item_list.remove(item)"
      ],
      "metadata": {
        "id": "hDm2QAYW6aLc"
      },
      "execution_count": null,
      "outputs": []
    },
    {
      "cell_type": "code",
      "source": [
        "def create_invoice():\n",
        "  total_amount_inc_tax = 0\n",
        "  for item, quantity in cart :\n",
        "    price = price_sheet[item]\n",
        "    tax = 0.18 * price\n",
        "    total = (tax + price ) * quantity\n",
        "    total_amount_inc_tax += total\n",
        "    print('Item :', item, '\\t', 'Price:',price, '\\t', 'Quantity', quantity, '\\t', 'Tax', tax, '\\t', 'Total', total, '\\n')\n",
        "\n",
        "  print(\"After the taxes are applied the total amount is:\" , '\\t', total_amount_inc_tax)\n",
        "  return total_amount_inc_tax"
      ],
      "metadata": {
        "id": "hdh-6op76ldy"
      },
      "execution_count": null,
      "outputs": []
    },
    {
      "cell_type": "code",
      "source": [
        "def checkout():\n",
        "  global limit\n",
        "  total_amount = create_invoice()\n",
        "  if limit == 0:\n",
        "    print(\"You don't have any budget\")\n",
        "  elif total_amount > limit:\n",
        "    print(\"The amount you have to pay is above the apending limit. You have to drop some items.\")\n",
        "  else:\n",
        "    limit -= total_amount\n",
        "    print(f\"The total amount (incl. taxes) you've paid is {total_amount}. You have {limit} dolars left\")"
      ],
      "metadata": {
        "id": "3xmrQQIw7334"
      },
      "execution_count": null,
      "outputs": []
    },
    {
      "cell_type": "code",
      "source": [
        "add_to_cart(\"Laptop\", 1)\n",
        "add_to_cart(\"Headset\", 3)\n",
        "add_to_cart(\"Second monitor\", 2)\n",
        "add_to_cart(\"Mousepad\", 2)\n",
        "add_to_cart(\"USB drive\", 1)\n",
        "add_to_cart(\"External drive\", 1)"
      ],
      "metadata": {
        "id": "tYHLlrsf8xbN"
      },
      "execution_count": null,
      "outputs": []
    },
    {
      "cell_type": "code",
      "source": [
        "checkout()"
      ],
      "metadata": {
        "id": "WwhBoDqW9L5Y",
        "colab": {
          "base_uri": "https://localhost:8080/"
        },
        "outputId": "63e3b34a-6802-4aba-e1bc-fd8e86250516"
      },
      "execution_count": null,
      "outputs": [
        {
          "output_type": "stream",
          "name": "stdout",
          "text": [
            "Item : Laptop \t Price: 1500 \t Quantity 1 \t Tax 270.0 \t Total 1770.0 \n",
            "\n",
            "Item : Headset \t Price: 100 \t Quantity 3 \t Tax 18.0 \t Total 354.0 \n",
            "\n",
            "Item : Second monitor \t Price: 200 \t Quantity 2 \t Tax 36.0 \t Total 472.0 \n",
            "\n",
            "Item : Mousepad \t Price: 50 \t Quantity 2 \t Tax 9.0 \t Total 118.0 \n",
            "\n",
            "Item : USB drive \t Price: 70 \t Quantity 1 \t Tax 12.6 \t Total 82.6 \n",
            "\n",
            "Item : External drive \t Price: 250 \t Quantity 1 \t Tax 45.0 \t Total 295.0 \n",
            "\n",
            "After the taxes are applied the total amount is: \t 3091.6\n",
            "The total amount (incl. taxes) you've paid is 3091.6. You have 1908.4 dolars left\n"
          ]
        }
      ]
    },
    {
      "cell_type": "markdown",
      "source": [
        "# **PART3** (Taş Kağıt Makas)\n"
      ],
      "metadata": {
        "id": "J9bLctW0XYk5"
      }
    },
    {
      "cell_type": "code",
      "source": [
        "import random\n",
        "action_list= ['rock', 'paper','scissors']\n",
        "computer_score = 0\n",
        "player_score = 0"
      ],
      "metadata": {
        "id": "sUdxf3iRXf2I"
      },
      "execution_count": null,
      "outputs": []
    },
    {
      "cell_type": "code",
      "source": [
        "total_rounds = input(\"How many rounds do you want to play? Please enter a number here :\")\n",
        "\n",
        "round_counter = 0\n",
        "while True:\n",
        "  round_counter += 1\n",
        "  print(\"Round number:\", round_counter)\n",
        "\n",
        "  computer_choice = random.choice(action_list)\n",
        "\n",
        "  player_choice = input(\"Please choose your action:\")\n",
        "\n",
        "  print(\"Computer:\", computer_choice)\n",
        "  print(\"Player:\", player_choice)\n",
        "\n",
        "  if computer_choice == player_choice:\n",
        "    print(\"Tie! Both players chose the same action.\")\n",
        "  elif computer_choice == 'paper':\n",
        "    if player_choice == 'rock':\n",
        "      print(\"Winner is : Computer\")\n",
        "      computer_score +=1\n",
        "    else:\n",
        "      print(\"Winner is : Player\")\n",
        "      player_score +=1\n",
        "\n",
        "  elif computer_choice == 'rock':\n",
        "    if player_choice == 'paper':\n",
        "      print(\"Winner is : Player\")\n",
        "      computer_score +=1\n",
        "    else:\n",
        "      print(\"Winner is : Computer\")\n",
        "      player_score +=1\n",
        "\n",
        "  elif computer_choice == 'scissors':\n",
        "    if player_choice == 'paper':\n",
        "      print(\"Winner is : Computer\")\n",
        "      computer_score +=1\n",
        "    else:\n",
        "      print(\"Winner is : Player\")\n",
        "      player_score +=1\n",
        "\n",
        "  if round_counter == int(total_rounds):\n",
        "    break\n",
        "\n",
        "if computer_score == player_score:\n",
        "  print(\"There is no winner, tie.\", computer_score, \":\", player_score)\n",
        "elif computer_score> player_score:\n",
        "  print(\"Computer von with score.\", computer_score, \":\", player_score)\n",
        "elif computer_score < player_score:\n",
        "  print(\"Player von with score.\", computer_score, \":\", player_score)"
      ],
      "metadata": {
        "colab": {
          "base_uri": "https://localhost:8080/"
        },
        "id": "YcpdCflDgMwU",
        "outputId": "610b5366-b8ed-45d8-f3a0-a76e9003ff0d"
      },
      "execution_count": null,
      "outputs": [
        {
          "output_type": "stream",
          "name": "stdout",
          "text": [
            "How many rounds do you want to play? Please enter a number here :3\n",
            "Round number: 1\n",
            "Please choose your action:rock\n",
            "Computer: rock\n",
            "Player: rock\n",
            "Tie! Both players chose the same action.\n",
            "Round number: 2\n",
            "Please choose your action:scissors\n",
            "Computer: paper\n",
            "Player: scissors\n",
            "Winner is : Player\n",
            "Round number: 3\n",
            "Please choose your action:paper\n",
            "Computer: paper\n",
            "Player: paper\n",
            "Tie! Both players chose the same action.\n",
            "Player von with score. 0 : 1\n"
          ]
        }
      ]
    },
    {
      "cell_type": "markdown",
      "source": [
        "# **PART 4**"
      ],
      "metadata": {
        "id": "USzpHje6i7xj"
      }
    },
    {
      "cell_type": "code",
      "source": [
        "sales_person_revenue = {\n",
        "    \"Ben\" : 0,\n",
        "    \"Omer\" : 0,\n",
        "    \"Karen\" : 0,\n",
        "    \"Burak\" : 0,\n",
        "    \"Tugba\" : 0,\n",
        "    \"Oguzhan\" : 0,\n",
        "    \"Ali\" : 0,\n",
        "    \"Betul\" : 0\n",
        "}"
      ],
      "metadata": {
        "id": "TpQA_kPqi_r5"
      },
      "execution_count": null,
      "outputs": []
    },
    {
      "cell_type": "code",
      "source": [
        "def enter_revenue(name, revenue):\n",
        "  global sales_person_revenue\n",
        "  sales_person_revenue[name] += revenue "
      ],
      "metadata": {
        "id": "a4TNNal8jmFq"
      },
      "execution_count": null,
      "outputs": []
    },
    {
      "cell_type": "code",
      "source": [
        "while True:\n",
        "  name = input(\"Employee name: \")\n",
        "  if name == \"quit\":\n",
        "    break\n",
        "  revenue = int(input(\"Enter revenue : \"))\n",
        "  enter_revenue(name, revenue)\n",
        "  print(f\"{name}'s revenue is {sales_person_revenue[name]}\")"
      ],
      "metadata": {
        "colab": {
          "base_uri": "https://localhost:8080/"
        },
        "id": "OrPtdob6jx6-",
        "outputId": "f06ccdef-15e4-419d-8028-45675189a360"
      },
      "execution_count": null,
      "outputs": [
        {
          "name": "stdout",
          "output_type": "stream",
          "text": [
            "Employee name: Ali\n",
            "Enter revenue : 23\n",
            "Ali's revenue is 46\n",
            "Employee name: Oguzhan\n",
            "Enter revenue : 33\n",
            "Oguzhan's revenue is 33\n",
            "Employee name: quit\n"
          ]
        }
      ]
    },
    {
      "cell_type": "code",
      "source": [
        "print(sales_person_revenue)"
      ],
      "metadata": {
        "colab": {
          "base_uri": "https://localhost:8080/"
        },
        "id": "sUrlTGCVkL8h",
        "outputId": "00f19a2f-fabc-4185-d96f-358e2498648d"
      },
      "execution_count": null,
      "outputs": [
        {
          "output_type": "stream",
          "name": "stdout",
          "text": [
            "{'Ben': 0, 'Omer': 0, 'Karen': 0, 'Burak': 0, 'Tugba': 0, 'Oguzhan': 33, 'Ali': 46, 'Betul': 0}\n"
          ]
        }
      ]
    },
    {
      "cell_type": "code",
      "source": [
        "name = \"abc\"\n",
        "def func():\n",
        "  global name\n",
        "  name = \"jaj\"\n",
        "func()\n",
        "print(name)"
      ],
      "metadata": {
        "colab": {
          "base_uri": "https://localhost:8080/"
        },
        "id": "9VAX8ugulWJr",
        "outputId": "e70f6401-cf0e-4151-ec05-cdd61e0aba25"
      },
      "execution_count": null,
      "outputs": [
        {
          "output_type": "stream",
          "name": "stdout",
          "text": [
            "jaj\n"
          ]
        }
      ]
    },
    {
      "cell_type": "code",
      "source": [
        ""
      ],
      "metadata": {
        "id": "N-uuaMN2mtvQ"
      },
      "execution_count": null,
      "outputs": []
    }
  ]
}